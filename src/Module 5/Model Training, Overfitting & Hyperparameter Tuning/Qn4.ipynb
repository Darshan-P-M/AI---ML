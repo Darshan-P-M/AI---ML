{
 "cells": [
  {
   "cell_type": "markdown",
   "metadata": {},
   "source": [
    "Title: Cross-Validation"
   ]
  },
  {
   "cell_type": "markdown",
   "metadata": {},
   "source": [
    "\n",
    "Task 1: K-Fold Cross-Validation for House Prices<br>\n",
    "Apply K-Fold Cross-Validation (K=5) to check variability in performance."
   ]
  },
  {
   "cell_type": "code",
   "execution_count": 1,
   "metadata": {},
   "outputs": [
    {
     "name": "stdout",
     "output_type": "stream",
     "text": [
      "Cross-Validation R^2 Scores: [0.57578771 0.61374822 0.60856043 0.62126494 0.5875292 ]\n",
      "Mean R^2 Score: 0.6014\n",
      "Standard Deviation: 0.0170\n"
     ]
    }
   ],
   "source": [
    "from sklearn.datasets import fetch_california_housing\n",
    "from sklearn.linear_model import LinearRegression\n",
    "from sklearn.model_selection import KFold, cross_val_score\n",
    "from sklearn.preprocessing import StandardScaler\n",
    "from sklearn.pipeline import Pipeline\n",
    "import numpy as np\n",
    "\n",
    "# Load dataset\n",
    "data = fetch_california_housing()\n",
    "X, y = data.data, data.target\n",
    "\n",
    "# Define the pipeline: StandardScaler + LinearRegression\n",
    "pipeline = Pipeline([\n",
    "    ('scaler', StandardScaler()),\n",
    "    ('lr', LinearRegression())\n",
    "])\n",
    "\n",
    "# Define 5-Fold cross-validation\n",
    "kf = KFold(n_splits=5, shuffle=True, random_state=42)\n",
    "\n",
    "# Evaluate model using cross_val_score (R^2 score)\n",
    "scores = cross_val_score(pipeline, X, y, cv=kf, scoring='r2')\n",
    "\n",
    "# Output results\n",
    "print(\"Cross-Validation R^2 Scores:\", scores)\n",
    "print(f\"Mean R^2 Score: {scores.mean():.4f}\")\n",
    "print(f\"Standard Deviation: {scores.std():.4f}\")\n"
   ]
  },
  {
   "cell_type": "markdown",
   "metadata": {},
   "source": [
    "Task 2: Stratified K-Fold for Imbalanced Churn Dataset<br>\n",
    "Use Stratified K-Fold to ensure each class is represented."
   ]
  },
  {
   "cell_type": "code",
   "execution_count": 2,
   "metadata": {},
   "outputs": [
    {
     "name": "stdout",
     "output_type": "stream",
     "text": [
      "Stratified K-Fold Accuracy Scores: [0.84  0.84  0.84  0.84  0.835]\n",
      "Mean Accuracy: 0.8390\n",
      "Standard Deviation: 0.0020\n"
     ]
    }
   ],
   "source": [
    "import numpy as np\n",
    "from sklearn.model_selection import StratifiedKFold, cross_val_score\n",
    "from sklearn.linear_model import LogisticRegression\n",
    "from sklearn.preprocessing import StandardScaler\n",
    "from sklearn.pipeline import Pipeline\n",
    "from sklearn.metrics import accuracy_score, classification_report\n",
    "\n",
    "# Simulate an imbalanced churn dataset\n",
    "np.random.seed(42)\n",
    "X = np.random.rand(1000, 10)\n",
    "y = np.random.choice([0, 1], size=1000, p=[0.85, 0.15])  # 85% no-churn, 15% churn\n",
    "\n",
    "# Define pipeline: standardization + logistic regression\n",
    "pipeline = Pipeline([\n",
    "    ('scaler', StandardScaler()),\n",
    "    ('logreg', LogisticRegression(solver='liblinear'))  # suitable for small/imbalanced sets\n",
    "])\n",
    "\n",
    "# Define stratified K-Fold (5 splits)\n",
    "skf = StratifiedKFold(n_splits=5, shuffle=True, random_state=42)\n",
    "\n",
    "# Evaluate with accuracy (you can also use 'f1' or 'roc_auc')\n",
    "scores = cross_val_score(pipeline, X, y, cv=skf, scoring='accuracy')\n",
    "\n",
    "# Output results\n",
    "print(\"Stratified K-Fold Accuracy Scores:\", scores)\n",
    "print(f\"Mean Accuracy: {scores.mean():.4f}\")\n",
    "print(f\"Standard Deviation: {scores.std():.4f}\")\n"
   ]
  },
  {
   "cell_type": "markdown",
   "metadata": {},
   "source": [
    "Task 3: Leave-One-Out Cross-Validation for Iris<br>\n",
    "Use LOOCV to assess model prediction for the Iris dataset."
   ]
  },
  {
   "cell_type": "code",
   "execution_count": 3,
   "metadata": {},
   "outputs": [
    {
     "name": "stdout",
     "output_type": "stream",
     "text": [
      "LOOCV Accuracy Scores (first 10 shown): [1. 1. 1. 1. 1. 1. 1. 1. 1. 1.]\n",
      "Total samples: 150\n",
      "Mean Accuracy: 0.9533\n"
     ]
    }
   ],
   "source": [
    "from sklearn.datasets import load_iris\n",
    "from sklearn.linear_model import LogisticRegression\n",
    "from sklearn.model_selection import LeaveOneOut, cross_val_score\n",
    "from sklearn.preprocessing import StandardScaler\n",
    "from sklearn.pipeline import Pipeline\n",
    "import numpy as np\n",
    "\n",
    "# Load Iris dataset\n",
    "iris = load_iris()\n",
    "X, y = iris.data, iris.target\n",
    "\n",
    "# Define the pipeline: StandardScaler + LogisticRegression\n",
    "pipeline = Pipeline([\n",
    "    ('scaler', StandardScaler()),\n",
    "    ('logreg', LogisticRegression(max_iter=200))\n",
    "])\n",
    "\n",
    "# Initialize Leave-One-Out Cross-Validation\n",
    "loo = LeaveOneOut()\n",
    "\n",
    "# Perform cross-validation and compute accuracy for each iteration\n",
    "scores = cross_val_score(pipeline, X, y, cv=loo, scoring='accuracy')\n",
    "\n",
    "# Output results\n",
    "print(\"LOOCV Accuracy Scores (first 10 shown):\", scores[:10])\n",
    "print(f\"Total samples: {len(scores)}\")\n",
    "print(f\"Mean Accuracy: {scores.mean():.4f}\")\n"
   ]
  }
 ],
 "metadata": {
  "kernelspec": {
   "display_name": "Python 3",
   "language": "python",
   "name": "python3"
  },
  "language_info": {
   "codemirror_mode": {
    "name": "ipython",
    "version": 3
   },
   "file_extension": ".py",
   "mimetype": "text/x-python",
   "name": "python",
   "nbconvert_exporter": "python",
   "pygments_lexer": "ipython3",
   "version": "3.10.12"
  }
 },
 "nbformat": 4,
 "nbformat_minor": 2
}
