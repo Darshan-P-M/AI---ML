{
 "cells": [
  {
   "cell_type": "markdown",
   "metadata": {},
   "source": [
    "Title: Classfication<br>\n",
    "\n",
    "Task 1:<br>\n",
    "Objective: Identify if an email is spam or not spam.<br>\n",
    "Load the UCI Spambase Dataset.<br>\n",
    "Goal: Create a model that classifies emails into two categories: \"spam\" and \"not spam.\"\n"
   ]
  },
  {
   "cell_type": "code",
   "execution_count": 1,
   "metadata": {},
   "outputs": [
    {
     "name": "stdout",
     "output_type": "stream",
     "text": [
      "Accuracy: 0.9565532223026793\n",
      "\n",
      "Classification Report:\n",
      "               precision    recall  f1-score   support\n",
      "\n",
      "    Not Spam       0.95      0.98      0.96       804\n",
      "        Spam       0.97      0.93      0.95       577\n",
      "\n",
      "    accuracy                           0.96      1381\n",
      "   macro avg       0.96      0.95      0.96      1381\n",
      "weighted avg       0.96      0.96      0.96      1381\n",
      "\n"
     ]
    }
   ],
   "source": [
    "# Import required libraries\n",
    "import pandas as pd\n",
    "from sklearn.model_selection import train_test_split\n",
    "from sklearn.ensemble import RandomForestClassifier\n",
    "from sklearn.metrics import classification_report, accuracy_score\n",
    "from sklearn.preprocessing import StandardScaler\n",
    "\n",
    "# Load the UCI Spambase dataset\n",
    "# You must have the 'spambase.data' and 'spambase.names' files from UCI:\n",
    "# Dataset URL: https://archive.ics.uci.edu/ml/datasets/spambase\n",
    "\n",
    "# Load dataset (assuming you've downloaded it locally)\n",
    "url = \"https://archive.ics.uci.edu/ml/machine-learning-databases/spambase/spambase.data\"\n",
    "column_names_url = \"https://archive.ics.uci.edu/ml/machine-learning-databases/spambase/spambase.names\"\n",
    "\n",
    "# Load the dataset into a pandas DataFrame\n",
    "df = pd.read_csv(url, header=None)\n",
    "\n",
    "# The last column is the target: 1 = spam, 0 = not spam\n",
    "X = df.iloc[:, :-1]\n",
    "y = df.iloc[:, -1]\n",
    "\n",
    "# Train-test split\n",
    "X_train, X_test, y_train, y_test = train_test_split(X, y, test_size=0.3, random_state=42)\n",
    "\n",
    "# Standardize features\n",
    "scaler = StandardScaler()\n",
    "X_train_scaled = scaler.fit_transform(X_train)\n",
    "X_test_scaled = scaler.transform(X_test)\n",
    "\n",
    "# Train a Random Forest Classifier\n",
    "clf = RandomForestClassifier(n_estimators=100, random_state=42)\n",
    "clf.fit(X_train_scaled, y_train)\n",
    "\n",
    "# Make predictions\n",
    "y_pred = clf.predict(X_test_scaled)\n",
    "\n",
    "# Evaluate the model\n",
    "print(\"Accuracy:\", accuracy_score(y_test, y_pred))\n",
    "print(\"\\nClassification Report:\\n\", classification_report(y_test, y_pred, target_names=[\"Not Spam\", \"Spam\"]))\n"
   ]
  },
  {
   "cell_type": "markdown",
   "metadata": {},
   "source": [
    "Task 2:<br>\n",
    "Objective: Diagnose whether a tumor is malignant or benign.<br>\n",
    "Load the Breast Cancer Wisconsin dataset.<br>\n",
    "Goal: Build a binary classification model to classify tumors."
   ]
  },
  {
   "cell_type": "code",
   "execution_count": 4,
   "metadata": {},
   "outputs": [],
   "source": [
    "# Write your code here"
   ]
  },
  {
   "cell_type": "markdown",
   "metadata": {},
   "source": [
    "\n",
    "Task 3:<br>\n",
    "Objective: Determine whether a transaction is fraudulent or legitimate.<br>\n",
    "Use a credit card transaction dataset.<br>\n",
    "Goal: Classify transactions into \"fraudulent\" and \"legitimate\" categories."
   ]
  },
  {
   "cell_type": "code",
   "execution_count": 5,
   "metadata": {},
   "outputs": [],
   "source": [
    "# Write your code here"
   ]
  }
 ],
 "metadata": {
  "kernelspec": {
   "display_name": "Python 3",
   "language": "python",
   "name": "python3"
  },
  "language_info": {
   "codemirror_mode": {
    "name": "ipython",
    "version": 3
   },
   "file_extension": ".py",
   "mimetype": "text/x-python",
   "name": "python",
   "nbconvert_exporter": "python",
   "pygments_lexer": "ipython3",
   "version": "3.10.12"
  }
 },
 "nbformat": 4,
 "nbformat_minor": 2
}
