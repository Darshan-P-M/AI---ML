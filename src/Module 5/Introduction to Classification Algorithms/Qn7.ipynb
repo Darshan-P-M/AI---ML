{
 "cells": [
  {
   "cell_type": "markdown",
   "metadata": {},
   "source": [
    "Title: Popular Classification Algorithms"
   ]
  },
  {
   "cell_type": "markdown",
   "metadata": {},
   "source": [
    "\n",
    "K Nearst Neighbors (KNN)"
   ]
  },
  {
   "cell_type": "markdown",
   "metadata": {},
   "source": [
    "Task 1: Classify fruits based on weight and color."
   ]
  },
  {
   "cell_type": "code",
   "execution_count": 1,
   "metadata": {},
   "outputs": [
    {
     "name": "stdout",
     "output_type": "stream",
     "text": [
      "Classification Report:\n",
      "               precision    recall  f1-score   support\n",
      "\n",
      "       Apple       0.00      0.00      0.00       1.0\n",
      "      Banana       0.00      0.00      0.00       2.0\n",
      "\n",
      "    accuracy                           0.00       3.0\n",
      "   macro avg       0.00      0.00      0.00       3.0\n",
      "weighted avg       0.00      0.00      0.00       3.0\n",
      "\n",
      "\n",
      "Test set predictions:\n",
      "Input: Weight=100, Color=Yellow --> Predicted Fruit: Apple\n",
      "Input: Weight=170, Color=Red --> Predicted Fruit: Banana\n",
      "Input: Weight=160, Color=Yellow --> Predicted Fruit: Apple\n"
     ]
    }
   ],
   "source": [
    "import numpy as np\n",
    "import pandas as pd\n",
    "from sklearn.preprocessing import LabelEncoder\n",
    "from sklearn.model_selection import train_test_split\n",
    "from sklearn.tree import DecisionTreeClassifier\n",
    "from sklearn.metrics import classification_report\n",
    "\n",
    "# Step 1: Create example dataset\n",
    "data = {\n",
    "    'Weight': [150, 170, 140, 130, 180, 160, 120, 110, 100, 90],\n",
    "    'Color': ['Red', 'Red', 'Green', 'Green', 'Yellow', 'Yellow', 'Red', 'Green', 'Yellow', 'Red'],\n",
    "    'Fruit': ['Apple', 'Apple', 'Apple', 'Apple', 'Banana', 'Banana', 'Apple', 'Apple', 'Banana', 'Apple']\n",
    "}\n",
    "\n",
    "df = pd.DataFrame(data)\n",
    "\n",
    "# Step 2: Encode color (categorical) to numeric\n",
    "le_color = LabelEncoder()\n",
    "df['Color_encoded'] = le_color.fit_transform(df['Color'])\n",
    "\n",
    "# Step 3: Features and labels\n",
    "X = df[['Weight', 'Color_encoded']]\n",
    "y = df['Fruit']\n",
    "\n",
    "# Step 4: Train-test split\n",
    "X_train, X_test, y_train, y_test = train_test_split(X, y, test_size=0.3, random_state=42)\n",
    "\n",
    "# Step 5: Train Decision Tree classifier\n",
    "clf = DecisionTreeClassifier(random_state=42)\n",
    "clf.fit(X_train, y_train)\n",
    "\n",
    "# Step 6: Predict on test set\n",
    "y_pred = clf.predict(X_test)\n",
    "\n",
    "# Step 7: Evaluate\n",
    "print(\"Classification Report:\\n\", classification_report(y_test, y_pred))\n",
    "\n",
    "# Optional: Show some predictions\n",
    "print(\"\\nTest set predictions:\")\n",
    "for i, pred in enumerate(y_pred):\n",
    "    print(f\"Input: Weight={X_test.iloc[i, 0]}, Color={le_color.inverse_transform([X_test.iloc[i,1]])[0]} --> Predicted Fruit: {pred}\")\n"
   ]
  },
  {
   "cell_type": "markdown",
   "metadata": {},
   "source": [
    "Task 2: Predict customer clothing size based on height and weight."
   ]
  },
  {
   "cell_type": "code",
   "execution_count": 4,
   "metadata": {},
   "outputs": [
    {
     "name": "stdout",
     "output_type": "stream",
     "text": [
      "Classification Report:\n",
      "              precision    recall  f1-score   support\n",
      "\n",
      "           L       1.00      1.00      1.00         1\n",
      "           M       1.00      1.00      1.00         2\n",
      "\n",
      "    accuracy                           1.00         3\n",
      "   macro avg       1.00      1.00      1.00         3\n",
      "weighted avg       1.00      1.00      1.00         3\n",
      "\n",
      "\n",
      "Test set predictions:\n",
      "Height: 172 cm, Weight: 68 kg --> Predicted Size: M\n",
      "Height: 170 cm, Weight: 65 kg --> Predicted Size: M\n",
      "Height: 175 cm, Weight: 75 kg --> Predicted Size: L\n"
     ]
    }
   ],
   "source": [
    "import pandas as pd\n",
    "from sklearn.model_selection import train_test_split\n",
    "from sklearn.preprocessing import LabelEncoder\n",
    "from sklearn.ensemble import RandomForestClassifier\n",
    "from sklearn.metrics import classification_report\n",
    "import numpy as np\n",
    "\n",
    "# Example dataset\n",
    "data = {\n",
    "    'Height_cm': [160, 170, 180, 155, 165, 175, 185, 150, 172, 168],\n",
    "    'Weight_kg': [55, 65, 80, 50, 60, 75, 85, 45, 68, 63],\n",
    "    'Size': ['S', 'M', 'L', 'S', 'M', 'L', 'L', 'S', 'M', 'M']\n",
    "}\n",
    "\n",
    "df = pd.DataFrame(data)\n",
    "\n",
    "# Features and labels\n",
    "X = df[['Height_cm', 'Weight_kg']]\n",
    "y = df['Size']\n",
    "\n",
    "# Encode target labels\n",
    "le = LabelEncoder()\n",
    "y_encoded = le.fit_transform(y)\n",
    "\n",
    "# Train-test split\n",
    "X_train, X_test, y_train, y_test = train_test_split(X, y_encoded, test_size=0.3, random_state=42)\n",
    "\n",
    "# Train classifier\n",
    "clf = RandomForestClassifier(random_state=42)\n",
    "clf.fit(X_train, y_train)\n",
    "\n",
    "# Predict on test set\n",
    "y_pred = clf.predict(X_test)\n",
    "\n",
    "# Fix: Get unique labels in test set\n",
    "unique_labels = np.unique(y_test)\n",
    "\n",
    "# Print classification report with matching labels and target_names\n",
    "print(\"Classification Report:\")\n",
    "print(classification_report(\n",
    "    y_test,\n",
    "    y_pred,\n",
    "    labels=unique_labels,\n",
    "    target_names=le.inverse_transform(unique_labels)\n",
    "))\n",
    "\n",
    "# Optional: Show predictions\n",
    "print(\"\\nTest set predictions:\")\n",
    "for i in range(len(y_pred)):\n",
    "    print(f\"Height: {X_test.iloc[i]['Height_cm']} cm, Weight: {X_test.iloc[i]['Weight_kg']} kg --> Predicted Size: {le.inverse_transform([y_pred[i]])[0]}\")\n"
   ]
  },
  {
   "cell_type": "markdown",
   "metadata": {},
   "source": [
    "Task 3: Determine optimal movie recommendation based on viewer preferences."
   ]
  },
  {
   "cell_type": "code",
   "execution_count": 3,
   "metadata": {},
   "outputs": [
    {
     "name": "stdout",
     "output_type": "stream",
     "text": [
      "Movies recommended based on viewer preferences:\n",
      "             Title  Similarity\n",
      "2      Sci-Fi Epic    0.754387\n",
      "0     Action Movie    0.140372\n",
      "3       Drama Film   -0.116060\n",
      "1  Romantic Comedy   -0.386024\n",
      "4  Horror Thriller   -0.508699\n"
     ]
    }
   ],
   "source": [
    "import pandas as pd\n",
    "from sklearn.metrics.pairwise import cosine_similarity\n",
    "from sklearn.preprocessing import StandardScaler\n",
    "\n",
    "# Sample movie dataset with features\n",
    "movies = pd.DataFrame({\n",
    "    'MovieID': [1, 2, 3, 4, 5],\n",
    "    'Title': ['Action Movie', 'Romantic Comedy', 'Sci-Fi Epic', 'Drama Film', 'Horror Thriller'],\n",
    "    'Action': [1, 0, 1, 0, 0],\n",
    "    'Romance': [0, 1, 0, 1, 0],\n",
    "    'SciFi': [0, 0, 1, 0, 0],\n",
    "    'Drama': [0, 0, 0, 1, 0],\n",
    "    'Horror': [0, 0, 0, 0, 1]\n",
    "})\n",
    "\n",
    "# User preferences: importance scores for each genre (scale 0-5)\n",
    "user_preferences = pd.DataFrame({\n",
    "    'Action': [5],\n",
    "    'Romance': [2],\n",
    "    'SciFi': [4],\n",
    "    'Drama': [1],\n",
    "    'Horror': [0]\n",
    "})\n",
    "\n",
    "# Step 1: Extract movie feature vectors\n",
    "movie_features = movies.loc[:, 'Action':'Horror']\n",
    "\n",
    "# Step 2: Scale features (optional but recommended)\n",
    "scaler = StandardScaler()\n",
    "movie_features_scaled = scaler.fit_transform(movie_features)\n",
    "user_pref_scaled = scaler.transform(user_preferences)\n",
    "\n",
    "# Step 3: Compute cosine similarity between user preferences and each movie\n",
    "similarity_scores = cosine_similarity(user_pref_scaled, movie_features_scaled)\n",
    "\n",
    "# Step 4: Add similarity scores to movies DataFrame\n",
    "movies['Similarity'] = similarity_scores.flatten()\n",
    "\n",
    "# Step 5: Recommend movies sorted by similarity score\n",
    "recommended_movies = movies.sort_values(by='Similarity', ascending=False)\n",
    "\n",
    "print(\"Movies recommended based on viewer preferences:\")\n",
    "print(recommended_movies[['Title', 'Similarity']])\n"
   ]
  }
 ],
 "metadata": {
  "kernelspec": {
   "display_name": "Python 3",
   "language": "python",
   "name": "python3"
  },
  "language_info": {
   "codemirror_mode": {
    "name": "ipython",
    "version": 3
   },
   "file_extension": ".py",
   "mimetype": "text/x-python",
   "name": "python",
   "nbconvert_exporter": "python",
   "pygments_lexer": "ipython3",
   "version": "3.10.12"
  }
 },
 "nbformat": 4,
 "nbformat_minor": 2
}
