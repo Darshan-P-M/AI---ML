{
 "cells": [
  {
   "cell_type": "markdown",
   "metadata": {},
   "source": [
    "Title: Supervised Learning "
   ]
  },
  {
   "cell_type": "markdown",
   "metadata": {},
   "source": [
    "Task 1: Identify input-output pairs in a dataset of housing prices."
   ]
  },
  {
   "cell_type": "code",
   "execution_count": 1,
   "metadata": {},
   "outputs": [
    {
     "name": "stdout",
     "output_type": "stream",
     "text": [
      "Input Features (X):\n",
      "   Bedrooms  Bathrooms  Size  Location_B\n",
      "0         3          2  1500       False\n",
      "1         2          1   900        True\n",
      "2         4          3  2500       False\n",
      "\n",
      "Target Output (y):\n",
      "0    300000\n",
      "1    200000\n",
      "2    500000\n",
      "Name: Price, dtype: int64\n"
     ]
    }
   ],
   "source": [
    "import pandas as pd\n",
    "\n",
    "# Example: Load dataset (replace this with your actual CSV file if needed)\n",
    "# Sample dataset structure: 'Bedrooms', 'Bathrooms', 'Size', 'Location', 'Price'\n",
    "data = pd.DataFrame({\n",
    "    'Bedrooms': [3, 2, 4],\n",
    "    'Bathrooms': [2, 1, 3],\n",
    "    'Size': [1500, 900, 2500],\n",
    "    'Location': ['A', 'B', 'A'],  # Categorical\n",
    "    'Price': [300000, 200000, 500000]\n",
    "})\n",
    "\n",
    "# 1. Define input (X) and output (y)\n",
    "X = data.drop(columns='Price')  # Input features\n",
    "y = data['Price']               # Output target\n",
    "\n",
    "# 2. Optionally, convert categorical variables (e.g., 'Location') using one-hot encoding\n",
    "X = pd.get_dummies(X, drop_first=True)\n",
    "\n",
    "# Display inputs and output\n",
    "print(\"Input Features (X):\")\n",
    "print(X)\n",
    "print(\"\\nTarget Output (y):\")\n",
    "print(y)\n"
   ]
  },
  {
   "cell_type": "markdown",
   "metadata": {},
   "source": [
    "Task 2: Match labeled images to their correct classifications."
   ]
  },
  {
   "cell_type": "code",
   "execution_count": 2,
   "metadata": {},
   "outputs": [
    {
     "name": "stdout",
     "output_type": "stream",
     "text": [
      "Accuracy: 0.975\n"
     ]
    },
    {
     "data": {
      "image/png": "[encoded data removed]",
      "text/plain": [
       "<Figure size 1000x400 with 10 Axes>"
      ]
     },
     "metadata": {},
     "output_type": "display_data"
    }
   ],
   "source": [
    "import matplotlib.pyplot as plt\n",
    "from sklearn.datasets import load_digits\n",
    "from sklearn.linear_model import LogisticRegression\n",
    "from sklearn.model_selection import train_test_split\n",
    "from sklearn.metrics import accuracy_score\n",
    "\n",
    "# 1. Load the dataset\n",
    "digits = load_digits()\n",
    "X = digits.images  # images (8x8 pixels)\n",
    "y = digits.target  # labels (0–9)\n",
    "\n",
    "# 2. Flatten the image data for training\n",
    "n_samples = len(X)\n",
    "X_flat = X.reshape((n_samples, -1))\n",
    "\n",
    "# 3. Split into train and test sets\n",
    "X_train, X_test, y_train, y_test = train_test_split(X_flat, y, test_size=0.2, random_state=42)\n",
    "\n",
    "# 4. Train a logistic regression classifier\n",
    "model = LogisticRegression(max_iter=1000)\n",
    "model.fit(X_train, y_train)\n",
    "\n",
    "# 5. Predict on test data\n",
    "y_pred = model.predict(X_test)\n",
    "\n",
    "# 6. Check accuracy\n",
    "print(\"Accuracy:\", accuracy_score(y_test, y_pred))\n",
    "\n",
    "# 7. Visualize a few predictions\n",
    "plt.figure(figsize=(10, 4))\n",
    "for index, (image, prediction) in enumerate(zip(X_test[:10], y_pred[:10])):\n",
    "    plt.subplot(2, 5, index + 1)\n",
    "    plt.imshow(image.reshape(8, 8), cmap='gray')\n",
    "    plt.title(f\"Pred: {prediction}\")\n",
    "    plt.axis('off')\n",
    "plt.tight_layout()\n",
    "plt.show()\n"
   ]
  },
  {
   "cell_type": "markdown",
   "metadata": {},
   "source": [
    "Task 3: List potential inputs and outputs for predicting stock prices."
   ]
  },
  {
   "cell_type": "code",
   "execution_count": 3,
   "metadata": {},
   "outputs": [
    {
     "name": "stdout",
     "output_type": "stream",
     "text": [
      "Input Features (X):\n",
      "   Open  High  Low  Volume\n",
      "0   100   103   99    1000\n",
      "1   102   104  100    1500\n",
      "2   101   106   98    1200\n",
      "3   105   108  104    1700\n",
      "4   107   110  105    1800\n",
      "\n",
      "Target Output (y):\n",
      "0    102\n",
      "1    101\n",
      "2    105\n",
      "3    107\n",
      "4    109\n",
      "Name: Close, dtype: int64\n"
     ]
    }
   ],
   "source": [
    "import pandas as pd\n",
    "\n",
    "# Example: Simulated stock data\n",
    "data = pd.DataFrame({\n",
    "    'Date': pd.date_range(start='2024-01-01', periods=5, freq='D'),\n",
    "    'Open': [100, 102, 101, 105, 107],\n",
    "    'High': [103, 104, 106, 108, 110],\n",
    "    'Low': [99, 100, 98, 104, 105],\n",
    "    'Close': [102, 101, 105, 107, 109],\n",
    "    'Volume': [1000, 1500, 1200, 1700, 1800]\n",
    "})\n",
    "\n",
    "# Drop date for modeling purposes\n",
    "features = data.drop(columns=['Date', 'Close'])  # Inputs\n",
    "target = data['Close']                           # Output\n",
    "\n",
    "# Display input and output columns\n",
    "print(\"Input Features (X):\")\n",
    "print(features)\n",
    "print(\"\\nTarget Output (y):\")\n",
    "print(target)\n"
   ]
  }
 ],
 "metadata": {
  "kernelspec": {
   "display_name": "Python 3",
   "language": "python",
   "name": "python3"
  },
  "language_info": {
   "codemirror_mode": {
    "name": "ipython",
    "version": 3
   },
   "file_extension": ".py",
   "mimetype": "text/x-python",
   "name": "python",
   "nbconvert_exporter": "python",
   "pygments_lexer": "ipython3",
   "version": "3.10.12"
  }
 },
 "nbformat": 4,
 "nbformat_minor": 2
}
