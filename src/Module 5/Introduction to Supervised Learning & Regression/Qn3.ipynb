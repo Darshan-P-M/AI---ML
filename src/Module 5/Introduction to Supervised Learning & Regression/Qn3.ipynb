{
 "cells": [
  {
   "cell_type": "markdown",
   "metadata": {},
   "source": [
    "Title: Regression Models"
   ]
  },
  {
   "cell_type": "markdown",
   "metadata": {},
   "source": [
    "Linear Regression (Simple & Multiple)"
   ]
  },
  {
   "cell_type": "markdown",
   "metadata": {},
   "source": [
    "Task 1: Differentiate between a labeled dataset of image classifications and an unlabeled dataset for clustering customer segments."
   ]
  },
  {
   "cell_type": "code",
   "execution_count": 1,
   "metadata": {},
   "outputs": [
    {
     "name": "stdout",
     "output_type": "stream",
     "text": [
      "🔹 Labeled Dataset (Image Classification):\n",
      "     0    1    2     3     4     5    6    7    8    9  ...   55   56   57  \\\n",
      "0  0.0  0.0  5.0  13.0   9.0   1.0  0.0  0.0  0.0  0.0  ...  0.0  0.0  0.0   \n",
      "1  0.0  0.0  0.0  12.0  13.0   5.0  0.0  0.0  0.0  0.0  ...  0.0  0.0  0.0   \n",
      "2  0.0  0.0  0.0   4.0  15.0  12.0  0.0  0.0  0.0  0.0  ...  0.0  0.0  0.0   \n",
      "3  0.0  0.0  7.0  15.0  13.0   1.0  0.0  0.0  0.0  8.0  ...  0.0  0.0  0.0   \n",
      "4  0.0  0.0  0.0   1.0  11.0   0.0  0.0  0.0  0.0  0.0  ...  0.0  0.0  0.0   \n",
      "\n",
      "    58    59    60    61   62   63  Label  \n",
      "0  6.0  13.0  10.0   0.0  0.0  0.0      0  \n",
      "1  0.0  11.0  16.0  10.0  0.0  0.0      1  \n",
      "2  0.0   3.0  11.0  16.0  9.0  0.0      2  \n",
      "3  7.0  13.0  13.0   9.0  0.0  0.0      3  \n",
      "4  0.0   2.0  16.0   4.0  0.0  0.0      4  \n",
      "\n",
      "[5 rows x 65 columns]\n",
      "\n",
      "\n",
      "🔹 Unlabeled Dataset (Customer Clustering):\n",
      "   Age  Annual_Income  Spending_Score\n",
      "0   25          30000              60\n",
      "1   45          80000              40\n",
      "2   23          25000              90\n",
      "3   31          60000              50\n",
      "4   50         120000              30\n"
     ]
    }
   ],
   "source": [
    "import pandas as pd\n",
    "from sklearn.datasets import load_digits\n",
    "import numpy as np\n",
    "\n",
    "# ---------- Labeled Dataset Example: Image Classifications ----------\n",
    "\n",
    "# Load labeled image dataset (digits)\n",
    "digits = load_digits()\n",
    "X_labeled = digits.data          # features (image pixels)\n",
    "y_labeled = digits.target        # labels (digit 0–9)\n",
    "\n",
    "# Display sample of labeled dataset\n",
    "df_labeled = pd.DataFrame(X_labeled[:5])  # first 5 images\n",
    "df_labeled['Label'] = y_labeled[:5]       # append labels\n",
    "print(\"🔹 Labeled Dataset (Image Classification):\")\n",
    "print(df_labeled.head())\n",
    "print(\"\\n\")\n",
    "\n",
    "# ---------- Unlabeled Dataset Example: Customer Segmentation ----------\n",
    "\n",
    "# Create synthetic customer data (no labels)\n",
    "X_unlabeled = pd.DataFrame({\n",
    "    'Age': [25, 45, 23, 31, 50],\n",
    "    'Annual_Income': [30000, 80000, 25000, 60000, 120000],\n",
    "    'Spending_Score': [60, 40, 90, 50, 30]\n",
    "})\n",
    "\n",
    "print(\"🔹 Unlabeled Dataset (Customer Clustering):\")\n",
    "print(X_unlabeled.head())\n"
   ]
  },
  {
   "cell_type": "markdown",
   "metadata": {},
   "source": [
    "Task 2: Examine a problem statement and determine which learning type is applicable.<br>"
   ]
  },
  {
   "cell_type": "code",
   "execution_count": 2,
   "metadata": {},
   "outputs": [
    {
     "name": "stdout",
     "output_type": "stream",
     "text": [
      "Problem: \"Predict house prices based on square footage and location\"\n",
      "→ Learning Type: Supervised Learning\n",
      "\n",
      "Problem: \"Cluster customers based on purchasing behavior\"\n",
      "→ Learning Type: Unsupervised Learning\n",
      "\n",
      "Problem: \"Train a robot to walk using trial and error\"\n",
      "→ Learning Type: Could not determine learning type\n",
      "\n",
      "Problem: \"Classify emails as spam or not spam\"\n",
      "→ Learning Type: Supervised Learning\n",
      "\n",
      "Problem: \"Segment users into groups with similar activity patterns\"\n",
      "→ Learning Type: Unsupervised Learning\n",
      "\n"
     ]
    }
   ],
   "source": [
    "def determine_learning_type(problem_statement):\n",
    "    problem_statement = problem_statement.lower()\n",
    "\n",
    "    # Basic keyword-based classification\n",
    "    if any(word in problem_statement for word in [\"predict\", \"classify\", \"regression\", \"forecast\", \"label\"]):\n",
    "        return \"Supervised Learning\"\n",
    "    elif any(word in problem_statement for word in [\"cluster\", \"group\", \"segment\", \"pattern discovery\", \"anomaly detection\"]):\n",
    "        return \"Unsupervised Learning\"\n",
    "    elif any(word in problem_statement for word in [\"reward\", \"environment\", \"agent\", \"action\", \"game\", \"policy\"]):\n",
    "        return \"Reinforcement Learning\"\n",
    "    else:\n",
    "        return \"Could not determine learning type\"\n",
    "\n",
    "# 🔍 Example problem statements\n",
    "problems = [\n",
    "    \"Predict house prices based on square footage and location\",\n",
    "    \"Cluster customers based on purchasing behavior\",\n",
    "    \"Train a robot to walk using trial and error\",\n",
    "    \"Classify emails as spam or not spam\",\n",
    "    \"Segment users into groups with similar activity patterns\"\n",
    "]\n",
    "\n",
    "# 🧪 Test classification\n",
    "for statement in problems:\n",
    "    learning_type = determine_learning_type(statement)\n",
    "    print(f\"Problem: \\\"{statement}\\\"\\n→ Learning Type: {learning_type}\\n\")\n"
   ]
  },
  {
   "cell_type": "markdown",
   "metadata": {},
   "source": [
    "Task 3: Identify whether facial recognition systems use supervised or unsupervised learning and justify."
   ]
  },
  {
   "cell_type": "code",
   "execution_count": 3,
   "metadata": {},
   "outputs": [
    {
     "name": "stdout",
     "output_type": "stream",
     "text": [
      "Task: Identify people based on facial images in a security system\n",
      "→ Learning Type: Supervised Learning\n",
      "Justification: The system is trained on labeled faces (e.g., 'this is Alice', 'this is Bob') and learns to classify new images accordingly.\n",
      "\n",
      "Task: Group similar faces together without knowing who they are\n",
      "→ Learning Type: Unsupervised Learning\n",
      "Justification: The system groups faces based on similarity without using labels.\n",
      "\n",
      "Task: Cluster unknown faces from camera footage\n",
      "→ Learning Type: Unsupervised Learning\n",
      "Justification: The system groups faces based on similarity without using labels.\n",
      "\n",
      "Task: Classify employee faces for attendance system\n",
      "→ Learning Type: Supervised Learning\n",
      "Justification: The system is trained on labeled faces (e.g., 'this is Alice', 'this is Bob') and learns to classify new images accordingly.\n",
      "\n"
     ]
    }
   ],
   "source": [
    "def facial_recognition_learning_type(task_description):\n",
    "    \"\"\"\n",
    "    Determines if the facial recognition task uses supervised or unsupervised learning\n",
    "    based on its purpose.\n",
    "    \"\"\"\n",
    "    task_description = task_description.lower()\n",
    "\n",
    "    if \"identify\" in task_description or \"classify\" in task_description or \"label\" in task_description:\n",
    "        learning_type = \"Supervised Learning\"\n",
    "        reason = \"The system is trained on labeled faces (e.g., 'this is Alice', 'this is Bob') and learns to classify new images accordingly.\"\n",
    "    elif \"cluster\" in task_description or \"group\" in task_description or \"unknown faces\" in task_description:\n",
    "        learning_type = \"Unsupervised Learning\"\n",
    "        reason = \"The system groups faces based on similarity without using labels.\"\n",
    "    else:\n",
    "        learning_type = \"Could not determine\"\n",
    "        reason = \"Task description does not clearly indicate a learning type.\"\n",
    "\n",
    "    return learning_type, reason\n",
    "\n",
    "# 🧪 Example Tasks\n",
    "tasks = [\n",
    "    \"Identify people based on facial images in a security system\",         # supervised\n",
    "    \"Group similar faces together without knowing who they are\",          # unsupervised\n",
    "    \"Cluster unknown faces from camera footage\",                          # unsupervised\n",
    "    \"Classify employee faces for attendance system\",                      # supervised\n",
    "]\n",
    "\n",
    "# 🔍 Output results\n",
    "for task in tasks:\n",
    "    learning_type, justification = facial_recognition_learning_type(task)\n",
    "    print(f\"Task: {task}\\n→ Learning Type: {learning_type}\\nJustification: {justification}\\n\")\n"
   ]
  }
 ],
 "metadata": {
  "kernelspec": {
   "display_name": "Python 3",
   "language": "python",
   "name": "python3"
  },
  "language_info": {
   "codemirror_mode": {
    "name": "ipython",
    "version": 3
   },
   "file_extension": ".py",
   "mimetype": "text/x-python",
   "name": "python",
   "nbconvert_exporter": "python",
   "pygments_lexer": "ipython3",
   "version": "3.10.12"
  }
 },
 "nbformat": 4,
 "nbformat_minor": 2
}
