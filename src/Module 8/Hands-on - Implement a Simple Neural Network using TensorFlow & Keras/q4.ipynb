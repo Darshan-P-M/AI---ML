{
 "cells": [
  {
   "cell_type": "code",
   "execution_count": 1,
   "metadata": {},
   "outputs": [],
   "source": [
    "# Question 4: Convert categorical labels to one-hot encoded labels.\n",
    "# Description: Use one-hot encoding for numerical stability during training."
   ]
  },
  {
   "cell_type": "code",
   "execution_count": 2,
   "metadata": {},
   "outputs": [
    {
     "name": "stdout",
     "output_type": "stream",
     "text": [
      "Original Labels:\n",
      " ['cat' 'dog' 'bird' 'dog' 'cat']\n",
      "One-Hot Encoded Labels:\n",
      " [[0. 1. 0.]\n",
      " [0. 0. 1.]\n",
      " [1. 0. 0.]\n",
      " [0. 0. 1.]\n",
      " [0. 1. 0.]]\n"
     ]
    }
   ],
   "source": [
    "from sklearn.preprocessing import OneHotEncoder\n",
    "import numpy as np\n",
    "\n",
    "# Example categorical labels\n",
    "labels = np.array(['cat', 'dog', 'bird', 'dog', 'cat']).reshape(-1, 1)\n",
    "\n",
    "# Initialize OneHotEncoder (use sparse_output instead of sparse)\n",
    "encoder = OneHotEncoder(sparse_output=False)\n",
    "\n",
    "# Fit and transform the labels\n",
    "one_hot_encoded = encoder.fit_transform(labels)\n",
    "\n",
    "print(\"Original Labels:\\n\", labels.ravel())\n",
    "print(\"One-Hot Encoded Labels:\\n\", one_hot_encoded)\n"
   ]
  }
 ],
 "metadata": {
  "kernelspec": {
   "display_name": "Python 3",
   "language": "python",
   "name": "python3"
  },
  "language_info": {
   "codemirror_mode": {
    "name": "ipython",
    "version": 3
   },
   "file_extension": ".py",
   "mimetype": "text/x-python",
   "name": "python",
   "nbconvert_exporter": "python",
   "pygments_lexer": "ipython3",
   "version": "3.10.12"
  }
 },
 "nbformat": 4,
 "nbformat_minor": 2
}
