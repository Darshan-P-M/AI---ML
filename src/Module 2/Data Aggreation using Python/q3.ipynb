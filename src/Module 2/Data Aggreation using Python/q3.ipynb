{
 "cells": [
  {
   "cell_type": "markdown",
   "metadata": {},
   "source": [
    "Pivot Tables & Advanced Aggregations<br>\n",
    "Objective: Utilize pivot tables for complex aggregation tasks."
   ]
  },
  {
   "cell_type": "markdown",
   "metadata": {},
   "source": [
    "Task 1: Creating a Basic Pivot Table<br>\n",
    "Task: Create a pivot table that shows the total sales for each 'category' across 'years'.<br>\n",
    "Steps:<br>\n",
    "19. Use pandas pivot_table() function.<br>\n",
    "20. Set index='year' and columns='category' .<br>\n",
    "21. Define the value parameter as 'sales' and aggregation function as np.sum ."
   ]
  },
  {
   "cell_type": "code",
   "execution_count": 1,
   "metadata": {},
   "outputs": [
    {
     "name": "stdout",
     "output_type": "stream",
     "text": [
      "Task 1: Total Sales per Category by Year:\n",
      "Category  Furniture  Office Supplies  Technology\n",
      "Year                                            \n",
      "2014      157192.89        151776.41   175278.26\n",
      "2015      170518.26        137233.42   162780.78\n",
      "2016      198901.55        183940.07   226364.24\n",
      "2017      215387.28        246097.09   271730.82\n"
     ]
    },
    {
     "name": "stderr",
     "output_type": "stream",
     "text": [
      "/tmp/ipykernel_61105/3814386779.py:15: FutureWarning: The provided callable <function sum at 0x791578d43520> is currently using DataFrameGroupBy.sum. In a future version of pandas, the provided callable will be used directly. To keep current behavior pass the string \"sum\" instead.\n",
      "  pivot = pd.pivot_table(\n"
     ]
    }
   ],
   "source": [
    "import pandas as pd\n",
    "import numpy as np\n",
    "\n",
    "# Load the dataset\n",
    "df = pd.read_csv('Raw Data (1).csv')\n",
    "\n",
    "# Ensure 'Order Date' is a datetime type\n",
    "df['Order Date'] = pd.to_datetime(df['Order Date'],dayfirst=True)\n",
    "\n",
    "# Extract year and month from 'Order Date'\n",
    "df['Year'] = df['Order Date'].dt.year\n",
    "df['Month'] = df['Order Date'].dt.month\n",
    "\n",
    "# Create basic pivot table: Total Sales per Category by Year\n",
    "pivot = pd.pivot_table(\n",
    "    df,\n",
    "    index='Year',\n",
    "    columns='Category',\n",
    "    values='Sales',\n",
    "    aggfunc=np.sum\n",
    ")\n",
    "\n",
    "print(\"Task 1: Total Sales per Category by Year:\")\n",
    "print(pivot)"
   ]
  },
  {
   "cell_type": "markdown",
   "metadata": {},
   "source": [
    "Task 2: Pivot Table with Multiple Aggregations<br>\n",
    "\n",
    "Task: Generate a pivot table with both mean and max of 'profit' for 'category' each month.<br>\n",
    "Steps:<br>\n",
    "22. Create a pivot table.<br>\n",
    "23. Use aggfunc=['mean', 'max'] .<br>\n",
    "24. Analyze the pivot table output."
   ]
  },
  {
   "cell_type": "code",
   "execution_count": 3,
   "metadata": {},
   "outputs": [
    {
     "name": "stdout",
     "output_type": "stream",
     "text": [
      "\n",
      "Task 2: Mean and Max Profit per Category by Month:\n",
      "                mean                                   max                  \\\n",
      "Category  Furniture Office Supplies  Technology Furniture Office Supplies   \n",
      "Month                                                                       \n",
      "1        -24.002593       27.505507   66.232055    746.41         2504.22   \n",
      "2         11.009206       24.146780   88.784333    266.45         1270.99   \n",
      "3          5.514000       25.254976  122.303662    610.86         3177.48   \n",
      "4         10.582246       11.331265   48.463243    378.27         1906.49   \n",
      "5         15.348733       20.022217   82.679328    770.35         1276.49   \n",
      "6          6.774828       24.996321   71.551550    580.54         1143.89   \n",
      "7          8.613902        5.615085   75.947669    388.81          390.98   \n",
      "8          0.033145       28.100710   69.462137    373.78         1453.12   \n",
      "9         19.361560       19.999087   59.738686    609.72         4630.48   \n",
      "10       -16.192246       23.009474  152.118790    481.47         1906.49   \n",
      "11        12.288495       17.949063   55.696111   1013.13          792.27   \n",
      "12        19.561220       21.689541   75.161660    673.88         4946.37   \n",
      "\n",
      "                     \n",
      "Category Technology  \n",
      "Month                \n",
      "1           1379.98  \n",
      "2           2799.98  \n",
      "3           6719.98  \n",
      "4           2365.98  \n",
      "5           1159.99  \n",
      "6           1668.21  \n",
      "7            944.99  \n",
      "8           1416.80  \n",
      "9           1371.98  \n",
      "10          8399.98  \n",
      "11          5039.99  \n",
      "12          2302.97  \n"
     ]
    }
   ],
   "source": [
    "import pandas as pd\n",
    "import numpy as np\n",
    "\n",
    "# Load the dataset\n",
    "df = pd.read_csv('Raw Data (1).csv')\n",
    "\n",
    "# Fix date format (dd-mm-yyyy)\n",
    "df['Order Date'] = pd.to_datetime(df['Order Date'], dayfirst=True)\n",
    "\n",
    "# Extract year and month\n",
    "df['Year'] = df['Order Date'].dt.year\n",
    "df['Month'] = df['Order Date'].dt.month\n",
    "\n",
    "\n",
    "\n",
    "# Task 2: Mean and max profit by category and month\n",
    "profit_pivot = pd.pivot_table(df, index='Month', columns='Category', values='Profit', aggfunc=['mean', 'max'])\n",
    "print(\"\\nTask 2: Mean and Max Profit per Category by Month:\\n\",profit_pivot)"
   ]
  },
  {
   "cell_type": "markdown",
   "metadata": {},
   "source": [
    "Task 3: Advanced Pivot Table with Margins<br>\n",
    "\n",
    "Task: Create a pivot table that includes subtotals for each 'region' and 'category'.<br>\n",
    "Steps:<br>\n",
    "25. Use pivot_table() with margins=True .<br>\n",
    "26. Set the index and columns appropriately.<br>\n",
    "27. Validate subtotal correctness by summing manually."
   ]
  },
  {
   "cell_type": "code",
   "execution_count": 4,
   "metadata": {},
   "outputs": [
    {
     "name": "stdout",
     "output_type": "stream",
     "text": [
      "\n",
      "Task 2: Mean and Max Profit per Category by Month:\n",
      "                mean                                   max                  \\\n",
      "Category  Furniture Office Supplies  Technology Furniture Office Supplies   \n",
      "Month                                                                       \n",
      "1        -24.002593       27.505507   66.232055    746.41         2504.22   \n",
      "2         11.009206       24.146780   88.784333    266.45         1270.99   \n",
      "3          5.514000       25.254976  122.303662    610.86         3177.48   \n",
      "4         10.582246       11.331265   48.463243    378.27         1906.49   \n",
      "5         15.348733       20.022217   82.679328    770.35         1276.49   \n",
      "6          6.774828       24.996321   71.551550    580.54         1143.89   \n",
      "7          8.613902        5.615085   75.947669    388.81          390.98   \n",
      "8          0.033145       28.100710   69.462137    373.78         1453.12   \n",
      "9         19.361560       19.999087   59.738686    609.72         4630.48   \n",
      "10       -16.192246       23.009474  152.118790    481.47         1906.49   \n",
      "11        12.288495       17.949063   55.696111   1013.13          792.27   \n",
      "12        19.561220       21.689541   75.161660    673.88         4946.37   \n",
      "\n",
      "                     \n",
      "Category Technology  \n",
      "Month                \n",
      "1           1379.98  \n",
      "2           2799.98  \n",
      "3           6719.98  \n",
      "4           2365.98  \n",
      "5           1159.99  \n",
      "6           1668.21  \n",
      "7            944.99  \n",
      "8           1416.80  \n",
      "9           1371.98  \n",
      "10          8399.98  \n",
      "11          5039.99  \n",
      "12          2302.97  \n"
     ]
    }
   ],
   "source": [
    "import pandas as pd\n",
    "import numpy as np\n",
    "\n",
    "# Load the dataset\n",
    "df = pd.read_csv('Raw Data (1).csv')\n",
    "\n",
    "# Fix date format (dd-mm-yyyy)\n",
    "df['Order Date'] = pd.to_datetime(df['Order Date'], dayfirst=True)\n",
    "\n",
    "# Extract year and month\n",
    "df['Year'] = df['Order Date'].dt.year\n",
    "df['Month'] = df['Order Date'].dt.month\n",
    "\n",
    "\n",
    "\n",
    "# Task 2: Mean and max profit by category and month\n",
    "profit_pivot = pd.pivot_table(df, index='Month', columns='Category', values='Profit', aggfunc=['mean', 'max'])\n",
    "print(\"\\nTask 2: Mean and Max Profit per Category by Month:\\n\", profit_pivot)"
   ]
  }
 ],
 "metadata": {
  "kernelspec": {
   "display_name": "Python 3",
   "language": "python",
   "name": "python3"
  },
  "language_info": {
   "codemirror_mode": {
    "name": "ipython",
    "version": 3
   },
   "file_extension": ".py",
   "mimetype": "text/x-python",
   "name": "python",
   "nbconvert_exporter": "python",
   "pygments_lexer": "ipython3",
   "version": "3.10.12"
  }
 },
 "nbformat": 4,
 "nbformat_minor": 2
}
