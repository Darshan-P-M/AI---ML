{
 "cells": [
  {
   "cell_type": "markdown",
   "metadata": {},
   "source": [
    "Title: Grouping & Aggregating Data using Pandas<br>\n",
    "Objective: Learn how to group data and perform aggregations on these groups."
   ]
  },
  {
   "cell_type": "markdown",
   "metadata": {},
   "source": [
    "Task 1: Grouping by a Single Column<br>\n",
    "\n",
    "Task: Group the dataset by 'region' and calculate total sales per region.<br>\n",
    "Steps:<br>\n",
    "10. Load the dataset.<br>\n",
    "11. Use groupby('region') on the DataFrame.<br>\n",
    "12. Apply .sum() to the 'sales' column."
   ]
  },
  {
   "cell_type": "code",
   "execution_count": 2,
   "metadata": {},
   "outputs": [
    {
     "name": "stdout",
     "output_type": "stream",
     "text": [
      "Total Sales: 2297201.07\n",
      "Manual Sum of First 10 Sales Values: 4913.679999999999\n"
     ]
    }
   ],
   "source": [
    "import pandas as pd\n",
    "\n",
    "# Step 1: Load the dataset (replace with the actual file path)\n",
    "df = pd.read_csv('Raw Data (1).csv')\n",
    "\n",
    "# Step 2: Calculate the total sales\n",
    "total_sales = df['Sales'].sum()\n",
    "\n",
    "# Display the total sales\n",
    "print(f\"Total Sales: {total_sales}\")\n",
    "\n",
    "# Step 3: Verify the result by manually summing a portion of the 'Sales' values\n",
    "# Example: Sum the first 10 sales values (for verification)\n",
    "manual_sum = df['Sales'].head(20).sum()\n",
    "\n",
    "print(f\"Manual Sum of First 10 Sales Values: {manual_sum}\")"
   ]
  },
  {
   "cell_type": "markdown",
   "metadata": {},
   "source": [
    "Task 2: Grouping by Multiple Columns<br>\n",
    "\n",
    "Task: Group the dataset by 'region' and 'category', then find the average sales.<br>\n",
    "Steps:<br>\n",
    "13. Group by ['region', 'category'].<br>\n",
    "14. Use .mean() on the 'sales' column.<br>\n",
    "15. Examine the resulting DataFrame structure."
   ]
  },
  {
   "cell_type": "code",
   "execution_count": 3,
   "metadata": {},
   "outputs": [
    {
     "name": "stdout",
     "output_type": "stream",
     "text": [
      "Average Quantity Sold: 3.789573744246548\n",
      "Manual Mean of First 10 Quantity Values: 3.2\n"
     ]
    }
   ],
   "source": [
    "import pandas as pd\n",
    "\n",
    "# Step 4: Load the dataset (replace with the actual file path)\n",
    "df = pd.read_csv('Raw Data (1).csv')\n",
    "\n",
    "# Step 5: Calculate the mean quantity\n",
    "average_quantity = df['Quantity'].mean()\n",
    "\n",
    "# Display the average quantity sold\n",
    "print(f\"Average Quantity Sold: {average_quantity}\")\n",
    "\n",
    "# Step 6: Verify by manually calculating the mean for the first 10 rows\n",
    "manual_mean = df['Quantity'].head(10).sum() / 10\n",
    "\n",
    "print(f\"Manual Mean of First 10 Quantity Values: {manual_mean}\")"
   ]
  },
  {
   "cell_type": "markdown",
   "metadata": {},
   "source": [
    "Task 3: Aggregating Multiple Functions<br>\n",
    "\n",
    "Task: Group data by 'category' and apply multiple aggregation functions (sum and count) on 'quantity'.<br>\n",
    "Steps:<br>\n",
    "16. Group by 'category'.<br>\n",
    "17. Use .agg(['sum', 'count']) on 'quantity'.<br>\n",
    "18. Analyze the result to understand how multiple aggregations work."
   ]
  },
  {
   "cell_type": "code",
   "execution_count": 4,
   "metadata": {},
   "outputs": [
    {
     "name": "stdout",
     "output_type": "stream",
     "text": [
      "Aggregated Quantity Stats by Category:\n",
      "                   sum  count\n",
      "Category                     \n",
      "Furniture         8028   2121\n",
      "Office Supplies  22906   6026\n",
      "Technology        6939   1847\n"
     ]
    }
   ],
   "source": [
    "import pandas as pd\n",
    "\n",
    "# Load the dataset\n",
    "df = pd.read_csv('Raw Data (1).csv')\n",
    "\n",
    "# Step 16 & 17: Group by 'Category' and apply sum and count on 'Quantity'\n",
    "quantity_stats = df.groupby('Category')['Quantity'].agg(['sum', 'count'])\n",
    "\n",
    "# Step 18: Display the result\n",
    "print(\"Aggregated Quantity Stats by Category:\")\n",
    "print(quantity_stats)"
   ]
  }
 ],
 "metadata": {
  "kernelspec": {
   "display_name": "Python 3",
   "language": "python",
   "name": "python3"
  },
  "language_info": {
   "codemirror_mode": {
    "name": "ipython",
    "version": 3
   },
   "file_extension": ".py",
   "mimetype": "text/x-python",
   "name": "python",
   "nbconvert_exporter": "python",
   "pygments_lexer": "ipython3",
   "version": "3.10.12"
  }
 },
 "nbformat": 4,
 "nbformat_minor": 2
}
